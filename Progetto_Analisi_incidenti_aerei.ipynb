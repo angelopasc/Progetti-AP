{
  "nbformat": 4,
  "nbformat_minor": 0,
  "metadata": {
    "colab": {
      "provenance": [],
      "mount_file_id": "1JXkH4nq9MyY3ARMZ_hfShtOTL3tZ7YXH",
      "authorship_tag": "ABX9TyM+ucA8aH1N5iHN9RBso1qo",
      "include_colab_link": true
    },
    "kernelspec": {
      "name": "python3",
      "display_name": "Python 3"
    },
    "language_info": {
      "name": "python"
    }
  },
  "cells": [
    {
      "cell_type": "markdown",
      "metadata": {
        "id": "view-in-github",
        "colab_type": "text"
      },
      "source": [
        "<a href=\"https://colab.research.google.com/github/angelopasc/Progetti-AP/blob/main/Progetto_Analisi_incidenti_aerei.ipynb\" target=\"_parent\"><img src=\"https://colab.research.google.com/assets/colab-badge.svg\" alt=\"Open In Colab\"/></a>"
      ]
    },
    {
      "cell_type": "markdown",
      "source": [
        "L'obiettivo di questo lavoro è analizzare il dataset contenente i disastri aerei avvenuti dal 1919 al 2023. Il dataset è in formato csv ed è stato precedentemente caricato su github, per potervi accedere tramite url.\n",
        "\n",
        "Importiamo le varie librerie che ci serviranno per la fase di importazione e lettura del dataset e passiamo alla seconda fase, di pulizia e manipolazione dei dati.\n"
      ],
      "metadata": {
        "id": "-sM5k77BzHgN"
      }
    },
    {
      "cell_type": "code",
      "source": [
        "pip install thefuzz"
      ],
      "metadata": {
        "id": "fv6xbLuMwDa8"
      },
      "execution_count": null,
      "outputs": []
    },
    {
      "cell_type": "code",
      "execution_count": null,
      "metadata": {
        "id": "odyQj7RFTJ8Y"
      },
      "outputs": [],
      "source": [
        "import pandas as pd\n",
        "import numpy as np\n",
        "from datetime import datetime\n",
        "import matplotlib.pyplot as plt\n",
        "from thefuzz import process\n",
        "import geopandas as gpd\n",
        "\n",
        "csv_url = 'https://raw.githubusercontent.com/angelopasc/ProAI-Progetto-2/main/aviation-accidents.csv'\n",
        "df = pd.read_csv(csv_url)\n",
        "del df['registration']\n",
        "\n",
        "df"
      ]
    },
    {
      "cell_type": "markdown",
      "source": [
        "Una volta importato e visualizzato il dataset, veniamo a conoscenza della sua dimensione: 8 colonne e 23967 righe. Le colonne contengono le informazioni di data, tipo del veicolo, operatore, numero di morti, località, nazione, categoria e anno. Iniziamo la procedura di pulizia andando a sostituire il valore Nan sulle righe che contengono valori di data e anno nulli e a cancellarle."
      ],
      "metadata": {
        "id": "1A6vrEMBzhnb"
      }
    },
    {
      "cell_type": "code",
      "source": [
        "#rimozione delle colonne con data \"date unk.\"\n",
        "df.loc[(df['date'].str.contains('\\?', na=False) | (df['date'] == 'date unk.')), 'date'] = pd.NaT\n",
        "#pulizia delle righe vuote\n",
        "\n",
        "df = df.dropna()\n",
        "df.info()\n"
      ],
      "metadata": {
        "id": "7_ezW7OEpX4F"
      },
      "execution_count": null,
      "outputs": []
    },
    {
      "cell_type": "markdown",
      "source": [
        "Dalle info del dataset notiamo che è necessario modificare i formati di due colonne: la colonna 'date' va modificata in formato datetime e la colonna 'fatalities' in int. Quando andiamo a richiedere la modifica della colonna 'fatalities' in int, notiamo che alcune colonne sono scritte come stringhe contenenti un'addizione, ad esempio \"5 + 1\". Scriviamo una funzione a cui passiamo il contenuto della colonna fatalities e per ogni valore controlla la presenza eventuale di un segno '+'. Se presente divide la stringa per valore '+', elimina gli spazi bianchi con il metodo strip e effettua la somma delle parti presenti nella lista creata con lo split."
      ],
      "metadata": {
        "id": "igmcp8br0RUq"
      }
    },
    {
      "cell_type": "code",
      "source": [
        "#conversione delle colonne nel formato corretto\n",
        "\n",
        "def convert_to_int(value):\n",
        "    if '+' in value:\n",
        "        # Divide la stringa in parti, rimuove eventuali spazi bianchi e converte ogni parte in intero\n",
        "        parts = value.split('+')\n",
        "        return sum(int(x.strip()) for x in parts)\n",
        "    else:\n",
        "        # Se il valore non contiene un segno di più, lo converte direttamente in intero\n",
        "        return int(value)\n",
        "\n",
        "\n",
        "df['date'] = pd.to_datetime(df['date'], format= '%d-%b-%Y')\n",
        "df[\"fatalities\"]=df['fatalities'].apply(convert_to_int)\n",
        "\n",
        "df.info()"
      ],
      "metadata": {
        "id": "2Pj2UGwCnH5M"
      },
      "execution_count": null,
      "outputs": []
    },
    {
      "cell_type": "markdown",
      "source": [
        "Adesso possiamo procedere con la creazione di alcuni elementi di data visualization. Partiamo dalla creazione di un barchart mettendo in relazione anno con il numero di incidenti nell'anno.\n"
      ],
      "metadata": {
        "id": "jbOe85d02vFP"
      }
    },
    {
      "cell_type": "code",
      "source": [
        "plt.figure(figsize=(20, 7))\n",
        "\n",
        "df['year'].value_counts().sort_index().plot(kind='bar')\n",
        "plt.xlabel('Anno')\n",
        "plt.title('Numero di incidenti per anno')\n",
        "plt.ylabel('Numero di Incidenti')\n",
        "plt.xticks(rotation=90)\n",
        "plt.text(70,600, \"Il 1944 rappresenta l'anno con più incidenti nella storia\", size=10, bbox=dict(boxstyle=\"square, pad=0.5\", facecolor='lightgrey'))\n",
        "plt.show()"
      ],
      "metadata": {
        "id": "vtcROSIxaLwP"
      },
      "execution_count": null,
      "outputs": []
    },
    {
      "cell_type": "markdown",
      "source": [
        "Creiamo uno scatterplot che mette in relazione il numero di morti per anno. Notiamo che il 2001 è l'anno con frequenza maggiore. Questo può farci pensare che nel conteggio abbia inciso il disastro dell'11 settembre 2001. Andiamo ad esplorare ulteriormente i dati per verificare questa ipotesi."
      ],
      "metadata": {
        "id": "49DiDABk3LO8"
      }
    },
    {
      "cell_type": "code",
      "source": [
        "plt.figure(figsize=(20, 7))\n",
        "plt.plot(df['year'].unique(), df.groupby('year')['fatalities'].sum())\n",
        "plt.scatter(df['year'].unique(), df.groupby('year')['fatalities'].sum())\n",
        "plt.text(90,3800, \"Il massimo è ottenuto nel 2001\", size=10, bbox=dict(boxstyle=\"square, pad=0.5\", facecolor='lightgrey'))\n",
        "plt.title('Numero di morti per anno')\n",
        "plt.xlabel('Anno')\n",
        "plt.ylabel('Numero di morti')\n",
        "plt.xticks(rotation=90)\n",
        "plt.grid()\n",
        "plt.show()"
      ],
      "metadata": {
        "id": "d_DNONPoveF4"
      },
      "execution_count": null,
      "outputs": []
    },
    {
      "cell_type": "markdown",
      "source": [
        "Di fatti, cercando il volo che contenga la frequenza di morti più alta, notiamo che il valore che ci ritorna è proprio quello. Dal grafico precedente notiamo che successivamente a quel picco, il numero di morti è andato via via diminuendo, benchè il numero di incidenti sia rimasto più o meno stabile, ad eccezione del valore basso del 2023."
      ],
      "metadata": {
        "id": "_3xPYZiy3n-3"
      }
    },
    {
      "cell_type": "code",
      "source": [
        "max_fatalities_index = df['fatalities'].idxmax()\n",
        "max_fatalities_id = df.loc[max_fatalities_index]\n",
        "max_fatalities_id"
      ],
      "metadata": {
        "id": "utD3aaoJ3RuD"
      },
      "execution_count": null,
      "outputs": []
    },
    {
      "cell_type": "markdown",
      "source": [
        "Inseriamo un grafico che metta in relazione il paese con il numero di incidenti. Essendo tantissime , mostriamo solo le nazioni con frequenza superiore alla media."
      ],
      "metadata": {
        "id": "-zTvm3BC4X8A"
      }
    },
    {
      "cell_type": "code",
      "source": [
        "plt.figure(figsize=(20, 7))\n",
        "df_by_country = df['country'].value_counts()\n",
        "country_over_mean = df_by_country[df_by_country > df_by_country.mean()]\n",
        "plt.title('Numero di incidenti per nazione')\n",
        "\n",
        "country_over_mean.plot(kind='bar')\n",
        "plt.xlabel('Nazione')\n",
        "plt.ylabel('Numero di Incidenti')\n",
        "plt.xticks(rotation=90)\n",
        "plt.text(28,3800, \"La nazione in cui si sono verificati più incidenti è gli USA, seguiti da Russia e Canada\", size=10, bbox=dict(boxstyle=\"square, pad=0.5\", facecolor='lightgrey'))\n",
        "\n",
        "plt.show()\n"
      ],
      "metadata": {
        "id": "zVScIGkC4Qmz"
      },
      "execution_count": null,
      "outputs": []
    },
    {
      "cell_type": "markdown",
      "source": [
        "Facciamo la stessa cosa per analizzare i modelli più soggetti ad incidente. Inseriamo un grafico che metta in relazione il modello con il numero di incidenti. Essendo tantissime modalità, mostriamo solo i modelli con più di 100 incidenti."
      ],
      "metadata": {
        "id": "IVIpN7W66ujW"
      }
    },
    {
      "cell_type": "code",
      "source": [
        "df['type'].value_counts().mean()\n",
        "\n",
        "\n",
        "plt.figure(figsize=(20, 7))\n",
        "df_by_type= df['type'].value_counts()\n",
        "type_over_mean = df_by_type[df_by_type > 100]\n",
        "\n",
        "plt.title('Numero di incidenti per tipo di veicolo')\n",
        "type_over_mean.plot(kind='bar')\n",
        "plt.xlabel('Tipo di veivolo')\n",
        "plt.ylabel('Numero di Incidenti')\n",
        "plt.xticks(rotation=90)\n",
        "plt.text(10,1000, \"Gli incidenti aerei si sono verificati maggiormente nei veivoli Douglas, che occupano i primi 3 posti\", size=10, bbox=dict(boxstyle=\"square, pad=0.5\", facecolor='lightgrey'))\n",
        "\n",
        "plt.show()"
      ],
      "metadata": {
        "id": "HYQFnZ-GE0-O"
      },
      "execution_count": null,
      "outputs": []
    },
    {
      "cell_type": "markdown",
      "source": [
        "Dalla colonna datetime estraiamo il giorno della settimana e lo mettiamo in relazione al numero di incidenti su un line chart. Abbiamo un andamento tutto sommato costante con un calo la domenica, probabilmente relativo al fatto che di domenica potrebbero partire meno voli."
      ],
      "metadata": {
        "id": "S72xIws7AcLZ"
      }
    },
    {
      "cell_type": "code",
      "source": [
        "df.loc[:, 'day_of_week'] = df['date'].dt.strftime('%A')\n",
        "days_order = ['Monday', 'Tuesday', 'Wednesday', 'Thursday', 'Friday', 'Saturday', 'Sunday']\n",
        "x = df['day_of_week'].value_counts().reindex(days_order, fill_value=0)\n",
        "plt.title('Numero di incidenti per giorno della settimana')\n",
        "plt.ylim(1000,4000)\n",
        "plt.plot(x)\n",
        "plt.show()"
      ],
      "metadata": {
        "id": "54WsAhIBIN73"
      },
      "execution_count": null,
      "outputs": []
    },
    {
      "cell_type": "markdown",
      "source": [
        "Su di un pie chart mettiamo in relazione la percentuale degli incidenti mortali con la percentuale degli incidenti non mortali, con una leggera prevalenza degli incidenti non mortali."
      ],
      "metadata": {
        "id": "cHhC4zXIAypu"
      }
    },
    {
      "cell_type": "code",
      "source": [
        "\n",
        "plt.figure(figsize=(20, 7))\n",
        "\n",
        "x = df.loc[df['fatalities'] == 0,'fatalities'].shape[0]\n",
        "y = df.loc[df['fatalities'] != 0,'fatalities'].shape[0]\n",
        "labels = [\"Non mortali\",\"Mortali\"]\n",
        "plt.title(\"Rapporto tra Incidenti mortali e non mortali\")\n",
        "plt.text(-1.3,-1.2, \"Gli incidenti aerei in una leggera maggioranza dei casi non sono stati mortali\", size=10, bbox=dict(boxstyle=\"square, pad=0.5\", facecolor='lightgrey'))\n",
        "\n",
        "print(x)\n",
        "print(y)\n",
        "plt.pie([x,y], labels = labels, autopct='%1.1f%%', startangle=90)\n",
        "plt.show()"
      ],
      "metadata": {
        "id": "qDb7eR0vJy7a"
      },
      "execution_count": null,
      "outputs": []
    },
    {
      "cell_type": "markdown",
      "source": [
        "Per creare una mappa che mostri il numero di incidenti per nazione, è stato utilizzato geopandas. Importando il dataset contenente i nomi delle nazioni e le forme degli stati, è stato effettuato un merge tra il dataset delle nazioni importato e un dataframe contenente nazione e numero di incidenti. A questo punto è venuto alla luce un problema di formattazione tra le nazioni scritte nel dataframe e le stringhe delle nazioni contenute nel file geografico. E' stata utilizzata la libreria thefuzz per utilizzare una logica fuzzy all'80% di somiglianza per il riconoscimento di gran parte degli stati. Alcuni sono stati integrati a mano, altri (minori) non sono stati toccati, scegliendo di trascurarli. Il risultato ottenuto è coerente con quello presente nel grafico a barre precedente, con una netta prevalenza degli incidenti negli USA, seguiti da Russia e Canada."
      ],
      "metadata": {
        "id": "abrzHDVdPVER"
      }
    },
    {
      "cell_type": "code",
      "source": [],
      "metadata": {
        "id": "mouqCHAsOO6W"
      },
      "execution_count": null,
      "outputs": []
    },
    {
      "cell_type": "code",
      "source": [
        "\n",
        "\n",
        "world = gpd.read_file(gpd.datasets.get_path('naturalearth_lowres'))\n",
        "\n",
        "# Nomi unici dei paesi del DF\n",
        "unique_countries_df = world['name'].unique()\n",
        "\n",
        "# Funzione per impostare la logica fuzzy all'80%\n",
        "def get_best_match(query, choices):\n",
        "    match, score = process.extractOne(query, choices)\n",
        "    return match if score > 80 else query\n",
        "\n",
        "\n",
        "country_mapping = {country: get_best_match(country, unique_countries_df) for country in unique_countries_df}\n",
        "\n",
        "df = df.copy()\n",
        "df['country'] = df['country'].replace(country_mapping)\n",
        "\n",
        "#Sostituzione manuale di alcune label sfuggite\n",
        "country_mapping = {\n",
        "    'USA': 'United States of America',\n",
        "    'Italia': 'Italy',\n",
        "    'U.K.': 'United Kingdom',\n",
        "}\n",
        "\n",
        "df['country'] = df['country'].replace(country_mapping)\n",
        "\n",
        "#Visualizzazione dei paesi non corrispondenti\n",
        "remaining_discrepancies = set(df['country']) - set(unique_countries_df)\n",
        "\n",
        "print(f'\\n Paesi ancora non corrispondenti:' ,remaining_discrepancies)\n",
        "\n"
      ],
      "metadata": {
        "id": "2EMfhdgLORtn"
      },
      "execution_count": null,
      "outputs": []
    },
    {
      "cell_type": "code",
      "source": [
        "\n",
        "# Conta il numero di incidenti per paese\n",
        "df_by_country = df['country'].value_counts()\n",
        "\n",
        "# Converti il conteggio in un DataFrame\n",
        "df_by_country = df_by_country.reset_index()\n",
        "df_by_country.columns = ['country', 'incidents']\n",
        "\n",
        "# Carica il file shape del mondo\n",
        "world = gpd.read_file(gpd.datasets.get_path('naturalearth_lowres'))\n",
        "\n",
        "# Unisci il DataFrame con il GeoDataFrame\n",
        "merged = world.set_index('name').join(df_by_country.set_index('country'))\n",
        "\n",
        "# Crea la mappa\n",
        "fig, ax = plt.subplots(1, 1, figsize=(15, 10))\n",
        "world.boundary.plot(ax=ax, linewidth=1)\n",
        "merged.plot(column='incidents', ax=ax, legend=True, legend_kwds={'label': \"Numero di incidenti\", 'orientation': \"horizontal\"}, cmap='YlOrRd', missing_kwds={\"color\": \"lightgrey\"})\n",
        "ax.axis('off')\n",
        "\n",
        "plt.title('Numero di incidenti per paese')\n",
        "plt.show()"
      ],
      "metadata": {
        "id": "D3eRlYX-7SFN"
      },
      "execution_count": null,
      "outputs": []
    },
    {
      "cell_type": "code",
      "source": [],
      "metadata": {
        "id": "Na2souIAJT8M"
      },
      "execution_count": null,
      "outputs": []
    }
  ]
}